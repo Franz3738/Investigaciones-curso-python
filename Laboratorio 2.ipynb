{
 "cells": [
  {
   "cell_type": "markdown",
   "id": "1c3d4a7d-6c0e-465d-9ed6-73fa22b6640e",
   "metadata": {},
   "source": [
    "## Ejercicio No.1 "
   ]
  },
  {
   "cell_type": "code",
   "execution_count": 1,
   "id": "5adcdd14-fcb7-410c-9d22-75493e496831",
   "metadata": {},
   "outputs": [
    {
     "name": "stdin",
     "output_type": "stream",
     "text": [
      "Ingrese los segundos 5700\n"
     ]
    },
    {
     "name": "stdout",
     "output_type": "stream",
     "text": [
      "Las horas son 1 y minutos son 35 y segundos son 0\n"
     ]
    }
   ],
   "source": [
    "try:\n",
    "    numero = int(input (\"Ingrese los segundos\") )\n",
    "    horas = numero//3600\n",
    "    minutos = (numero % 3600) // 60\n",
    "    segundos = numero % 60 \n",
    "    print(\"Las horas son {} y minutos son {} y segundos son {}\".format(horas,minutos,segundos))\n",
    "except ValueError:\n",
    "    print(\"Ingreso letra o número NO entero y NO número\")\n",
    "    "
   ]
  },
  {
   "cell_type": "markdown",
   "id": "2e0f03d9-8a75-4d35-bd90-0e0633b7c5ae",
   "metadata": {},
   "source": [
    "## Ejercicio No.2"
   ]
  },
  {
   "cell_type": "code",
   "execution_count": 2,
   "id": "35f22412-c314-4118-9b69-279ad1f23b56",
   "metadata": {},
   "outputs": [
    {
     "name": "stdout",
     "output_type": "stream",
     "text": [
      "%   %%%%%   %%%%%   %   \n",
      "%%    %%%%    %%%%   %%   \n",
      "%%%     %%%     %%%   %%%   \n",
      "%%%%      %%      %%   %%%%   \n",
      "%%%%%       %       %   %%%%%   \n"
     ]
    }
   ],
   "source": [
    "def patrones(numero, caracter):\n",
    "    if numero < 1 or numero > 20:\n",
    "        print(\"Error: El número debe estar entre 1 y 20.\")\n",
    "        return\n",
    "\n",
    "    for i in range(1, numero+1):\n",
    "        # Patrón 1\n",
    "        print(caracter * i, end=\"   \")\n",
    "\n",
    "        # Patrón 2\n",
    "        print(\" \"*(i-1) + caracter*(numero-i+1), end=\"   \")\n",
    "        # Patrón 3\n",
    "\n",
    "        print(\" \"*(i-1) + caracter*(numero-i+1), end=\"   \")\n",
    "\n",
    "\n",
    "        # Patrón 4\n",
    "        print(caracter * i, end=\"   \")\n",
    "\n",
    "        print()\n",
    "\n",
    "# Ejemplo de uso\n",
    "mostrar_patrones_triangulares(5, \"%\")\n"
   ]
  },
  {
   "cell_type": "markdown",
   "id": "f3a6830a-bb01-4f0a-b614-7fcfd125fb44",
   "metadata": {},
   "source": [
    "## Ejercicio No.3"
   ]
  },
  {
   "cell_type": "code",
   "execution_count": 7,
   "id": "65015a0d-186b-4a45-b66d-cbd2d6e95e50",
   "metadata": {},
   "outputs": [
    {
     "name": "stdin",
     "output_type": "stream",
     "text": [
      "Ingrese el año de nacimiento (formato AAAA):  1995\n",
      "Ingrese el mes de nacimiento (formato MM):  12\n",
      "Ingrese el día de nacimiento (formato DD):  10\n"
     ]
    },
    {
     "name": "stdout",
     "output_type": "stream",
     "text": [
      "La edad es 27 años, 2 meses y 17 días.\n"
     ]
    }
   ],
   "source": [
    "from datetime import date\n",
    "\n",
    "# Solicita la fecha de nacimiento de la persona\n",
    "year = int(input(\"Ingrese el año de nacimiento (formato AAAA): \"))\n",
    "month = int(input(\"Ingrese el mes de nacimiento (formato MM): \"))\n",
    "day = int(input(\"Ingrese el día de nacimiento (formato DD): \"))\n",
    "\n",
    "# Calcula la edad en años, meses y días\n",
    "today = date.today()\n",
    "age_years = today.year - year\n",
    "age_months = today.month - month\n",
    "age_days = today.day - day\n",
    "\n",
    "# Ajusta la edad si aún no ha cumplido años, meses o días suficientes\n",
    "if age_months < 0 or (age_months == 0 and age_days < 0):\n",
    "    age_years -= 1\n",
    "    age_months += 12\n",
    "if age_days < 0:\n",
    "    last_month = today.replace(month=today.month-1)\n",
    "    days_in_last_month = (today - last_month).days\n",
    "    age_days += days_in_last_month\n",
    "    age_months -= 1\n",
    "\n",
    "# Muestra la edad en años, meses y días\n",
    "print(f\"La edad es {age_years} años, {age_months} meses y {age_days} días.\")\n"
   ]
  },
  {
   "cell_type": "markdown",
   "id": "143b199a-0e59-4ab5-a47d-43010da550b9",
   "metadata": {},
   "source": [
    "## Ejercicio No.4"
   ]
  },
  {
   "cell_type": "code",
   "execution_count": 71,
   "id": "a3af5af8-4daf-4d3a-9e6a-091e76d3de3f",
   "metadata": {},
   "outputs": [
    {
     "name": "stdout",
     "output_type": "stream",
     "text": [
      "102040570\n"
     ]
    }
   ],
   "source": [
    "def tupla_a_string(tupla):\n",
    "    string = \"\"\n",
    "    for elemento in tupla:\n",
    "        string += str(elemento)\n",
    "    return string\n",
    "tupla = (10, 20, 40, 5, 70)\n",
    "resultado = tupla_a_string(tupla)\n",
    "print(resultado)\n"
   ]
  },
  {
   "cell_type": "markdown",
   "id": "fa96086c-06a8-4b57-8c55-496767956134",
   "metadata": {},
   "source": [
    "## Ejercicio No.5"
   ]
  },
  {
   "cell_type": "code",
   "execution_count": 10,
   "id": "b30e6611-714a-40ef-a1ae-dc799a6b46f0",
   "metadata": {},
   "outputs": [
    {
     "name": "stdout",
     "output_type": "stream",
     "text": [
      "[('X',), ('a', 'b'), ('a', 'b', 'c'), 'd']\n"
     ]
    }
   ],
   "source": [
    "# Lista de tuplas\n",
    "tuplas = [(), (), ('X',), ('a', 'b'), ('a', 'b', 'c'), ('d')]\n",
    "\n",
    "# Eliminar tuplas vacías\n",
    "lista_sin_tuplas_vacias = [tupla for tupla in tuplas if tupla]\n",
    "\n",
    "# Imprimir la lista sin tuplas vacías\n",
    "print(lista_sin_tuplas_vacias)\n"
   ]
  },
  {
   "cell_type": "markdown",
   "id": "094ac0e3-9d93-42ba-bb71-0bac764ce681",
   "metadata": {},
   "source": [
    "## Ejercicio No.6"
   ]
  },
  {
   "cell_type": "code",
   "execution_count": 11,
   "id": "94fa141f-a5d9-4b93-9e3d-dcf34457f6da",
   "metadata": {},
   "outputs": [
    {
     "name": "stdout",
     "output_type": "stream",
     "text": [
      "(10.5, 44.0, 58.0)\n"
     ]
    }
   ],
   "source": [
    "def promedio_tuplas(tupla):\n",
    "    # Aplicar la función sum a cada tupla y dividir por la longitud de la tupla\n",
    "    promedios = tuple(map(lambda x: sum(x) / len(x), tupla))\n",
    "    return promedios\n",
    "\n",
    "# Ejemplo de uso\n",
    "tupla_numeros = ((10, 10, 10, 12), (30, 45, 56, 45), (81, 80, 39, 32))\n",
    "promedios = promedio_tuplas(tupla_numeros)\n",
    "print(promedios)\n"
   ]
  },
  {
   "cell_type": "markdown",
   "id": "3e9ac818-0b43-42f1-9632-56a7e8f56b38",
   "metadata": {},
   "source": [
    "## Ejercicio No.7"
   ]
  },
  {
   "cell_type": "code",
   "execution_count": null,
   "id": "42f15d6d-5f1e-4cec-8c71-3be1193481e4",
   "metadata": {},
   "outputs": [
    {
     "name": "stdout",
     "output_type": "stream",
     "text": [
      "¿Qué desea hacer?\n",
      "1 - Añadir una nueva factura\n",
      "2 - Pagar una factura existente\n",
      "3 - Terminar\n"
     ]
    },
    {
     "name": "stdin",
     "output_type": "stream",
     "text": [
      "Ingrese el número de opción:  1\n",
      "Ingrese el número de factura (debe tener 4 dígitos):  4561\n",
      "Ingrese el coste de la factura:  2300\n"
     ]
    },
    {
     "name": "stdout",
     "output_type": "stream",
     "text": [
      "La factura se ha añadido correctamente.\n",
      "{'4561': 2300.0}\n",
      "Cantidad cobrada: 2300.00\n",
      "Cantidad pendiente de cobro: 2300.00\n",
      "¿Qué desea hacer?\n",
      "1 - Añadir una nueva factura\n",
      "2 - Pagar una factura existente\n",
      "3 - Terminar\n"
     ]
    },
    {
     "name": "stdin",
     "output_type": "stream",
     "text": [
      "Ingrese el número de opción:  3\n"
     ]
    },
    {
     "name": "stdout",
     "output_type": "stream",
     "text": [
      "Gracias por usar el programa.\n"
     ]
    }
   ],
   "source": [
    "facturas = {}\n",
    "\n",
    "while True:\n",
    "    print(\"¿Qué desea hacer?\")\n",
    "    print(\"1 - Añadir una nueva factura\")\n",
    "    print(\"2 - Pagar una factura existente\")\n",
    "    print(\"3 - Terminar\")\n",
    "\n",
    "    opcion = input(\"Ingrese el número de opción: \")\n",
    "\n",
    "    if opcion == \"1\":\n",
    "        # Añadir una nueva factura\n",
    "        num_factura = input(\"Ingrese el número de factura (debe tener 4 dígitos): \")\n",
    "        coste = float(input(\"Ingrese el coste de la factura: \"))\n",
    "        facturas[num_factura] = coste\n",
    "        print(\"La factura se ha añadido correctamente.\")\n",
    "        print(facturas)\n",
    "    elif opcion == \"2\":\n",
    "        # Pagar una factura existente\n",
    "        num_factura = input(\"Ingrese el número de factura a pagar: \")\n",
    "        if num_factura in facturas:\n",
    "            coste = facturas[num_factura]\n",
    "            del facturas[num_factura]\n",
    "            print(\"La factura se ha pagado correctamente.\")\n",
    "            print(facturas)\n",
    "        else:\n",
    "            print(\"No existe una factura con ese número.\")\n",
    "    elif opcion == \"3\":\n",
    "        # Terminar\n",
    "        print(\"Gracias por usar el programa.\")\n",
    "        break\n",
    "    else:\n",
    "        print(\"Opción inválida. Por favor ingrese 1, 2 o 3.\")\n",
    "\n",
    "    # Mostrar la cantidad cobrada y pendiente de cobro\n",
    "    cobrado = sum(facturas.values())\n",
    "    pendiente = 0 if cobrado == 0 else sum(facturas.values())\n",
    "    print(f\"Cantidad cobrada: {cobrado:.2f}\")\n",
    "    print(f\"Cantidad pendiente de cobro: {pendiente:.2f}\")\n"
   ]
  },
  {
   "cell_type": "markdown",
   "id": "2ec4b06c-c8e0-42ea-b92f-987d6aa51a33",
   "metadata": {},
   "source": [
    "## Ejercicio No.8"
   ]
  },
  {
   "cell_type": "markdown",
   "id": "ef38337c-b51f-4b45-acdd-3cafe64f20d7",
   "metadata": {},
   "source": [
    "#Haga una funcion en Python, que cree un set con todas las cartas de una baraja de Pocker utilizando el siguiente formato: Tipo-Numero. Utilice las letras T para treboles, C para\n",
    "corazones, P para picas y E para espadas. Para los numeros utilice la numeracion del 1 al\n",
    "13. Por ejemplo E13 - serıa Rey de Espadas, P01 serıa As de Picas, T05 serıa cinco de Treboles.\n"
   ]
  },
  {
   "cell_type": "code",
   "execution_count": 20,
   "id": "03b62953-be20-4978-a962-b9c1b660401a",
   "metadata": {},
   "outputs": [],
   "source": [
    "def crear_baraja():\n",
    "    baraja = set()\n",
    "    tipos = ['T', 'C', 'P', 'E']\n",
    "    numeros = [str(n).zfill(2) for n in range(1, 14)] # zfill para agregar un 0 al inicio de los numeros menores a 10\n",
    "    for tipo in tipos:\n",
    "        for numero in numeros:\n",
    "            carta = tipo + numero\n",
    "            baraja.add(carta)\n",
    "    return baraja\n"
   ]
  },
  {
   "cell_type": "code",
   "execution_count": null,
   "id": "9d0d8e1b-4e25-4e77-abcc-fb3896befffd",
   "metadata": {},
   "outputs": [],
   "source": [
    "Posteriormente cree una funcion que dado el conjunto anterior cree dos sets nuevos de cartas,\n",
    "cada conjunto debe tener una cantidad variable de elementos, puede utilizar numeros aleatorios enteros para definir la longitud de los conjuntos."
   ]
  },
  {
   "cell_type": "code",
   "execution_count": 21,
   "id": "ea74caf0-eca4-4c31-851d-7e8d9093a9a6",
   "metadata": {},
   "outputs": [],
   "source": [
    "import random\n",
    "\n",
    "def crear_sets(n1, n2):\n",
    "    baraja = crear_baraja()\n",
    "    set1 = set(random.sample(baraja, n1))\n",
    "    set2 = set(random.sample(baraja, n2))\n",
    "    return set1, set2\n"
   ]
  },
  {
   "cell_type": "markdown",
   "id": "49edd79e-36e7-471d-89a5-988fd8a11d7f",
   "metadata": {},
   "source": [
    "Adicionalmente, debera calcular la probabilidad de la interseccion de ambos conjuntos y demuestre si son eventos independientes con la regla del producto."
   ]
  },
  {
   "cell_type": "code",
   "execution_count": 22,
   "id": "e9ce7d9b-3117-4f06-8644-8399f9f7997a",
   "metadata": {},
   "outputs": [],
   "source": [
    "def prob_interseccion(set1, set2):\n",
    "    interseccion = set1.intersection(set2)\n",
    "    p1 = len(set1) / len(crear_baraja())\n",
    "    p2 = len(set2) / len(crear_baraja())\n",
    "    p_condicional = len(interseccion) / len(crear_baraja())\n",
    "    if p_condicional == p1 * p2:\n",
    "        print(\"Los eventos son independientes\")\n",
    "    return p_condicional\n"
   ]
  },
  {
   "cell_type": "code",
   "execution_count": 23,
   "id": "c3a57f3e-768e-48b2-945d-fa68187cbaab",
   "metadata": {},
   "outputs": [],
   "source": [
    "def prob_union(set1, set2):\n",
    "    union = set1.union(set2)\n",
    "    p1 = len(set1) / len(crear_baraja())\n",
    "    p2 = len(set2) / len(crear_baraja())\n",
    "    p_interseccion = prob_interseccion(set1, set2)\n",
    "    if p1 + p2 - p_interseccion == len(union) / len(crear_baraja()):\n",
    "        print(\"Se cumple la regla de la adición\")\n",
    "    return len(union) / len(crear_baraja())\n"
   ]
  },
  {
   "cell_type": "code",
   "execution_count": 24,
   "id": "ba5ac4bb-baf7-48be-b82d-d502ddd80ffb",
   "metadata": {},
   "outputs": [
    {
     "name": "stdout",
     "output_type": "stream",
     "text": [
      "Set 1: {'C06', 'E13', 'C04', 'E05', 'C09', 'P04', 'P01', 'T04', 'E01', 'T01', 'T03', 'T02', 'T10', 'P13', 'P10', 'E08', 'T05', 'C05', 'T13', 'C01'}\n",
      "Set 2: {'P02', 'C13', 'C03', 'C04', 'P03', 'E05', 'P08', 'P04', 'P01', 'E09', 'C10', 'T03', 'E06', 'P05', 'T01', 'C02', 'C11', 'T10', 'T06', 'C07', 'P06', 'C05', 'T13', 'E02', 'T09'}\n",
      "Probabilidad de intersección: 0.17307692307692307\n",
      "Se cumple la regla de la adición\n",
      "Probabilidad de unión: 0.6923076923076923\n"
     ]
    },
    {
     "name": "stderr",
     "output_type": "stream",
     "text": [
      "C:\\Users\\Franz Castillo\\AppData\\Local\\Temp\\ipykernel_15104\\1185064154.py:5: DeprecationWarning: Sampling from a set deprecated\n",
      "since Python 3.9 and will be removed in a subsequent version.\n",
      "  set1 = set(random.sample(baraja, n1))\n",
      "C:\\Users\\Franz Castillo\\AppData\\Local\\Temp\\ipykernel_15104\\1185064154.py:6: DeprecationWarning: Sampling from a set deprecated\n",
      "since Python 3.9 and will be removed in a subsequent version.\n",
      "  set2 = set(random.sample(baraja, n2))\n"
     ]
    }
   ],
   "source": [
    "set1, set2 = crear_sets(20, 25)\n",
    "print(\"Set 1:\", set1)\n",
    "print(\"Set 2:\", set2)\n",
    "print(\"Probabilidad de intersección:\", prob_interseccion(set1, set2))\n",
    "print(\"Probabilidad de unión:\", prob_union(set1, set2))\n"
   ]
  }
 ],
 "metadata": {
  "kernelspec": {
   "display_name": "Python 3 (ipykernel)",
   "language": "python",
   "name": "python3"
  },
  "language_info": {
   "codemirror_mode": {
    "name": "ipython",
    "version": 3
   },
   "file_extension": ".py",
   "mimetype": "text/x-python",
   "name": "python",
   "nbconvert_exporter": "python",
   "pygments_lexer": "ipython3",
   "version": "3.9.13"
  }
 },
 "nbformat": 4,
 "nbformat_minor": 5
}
