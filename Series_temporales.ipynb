{
 "cells": [
  {
   "cell_type": "markdown",
   "id": "8b369924-87a8-4b37-8aea-aa86f014268a",
   "metadata": {},
   "source": [
    "# Mapa Mental: Temas de Series Temporales\n",
    "\n",
    "- Tipos de series temporales y componentes de la serie\n",
    "  - Series temporales\n",
    "    - Definición\n",
    "    - Características\n",
    "  - Componentes de la serie temporal\n",
    "    - Tendencia\n",
    "    - Estacionalidad\n",
    "    - Ciclos\n",
    "    - Ruido\n",
    "\n",
    "- Modelos de series temporales estacionarias\n",
    "  - Definición de estacionariedad\n",
    "  - Modelos ARIMA\n",
    "    - Autoregressive (AR)\n",
    "    - Moving Average (MA)\n",
    "    - Integrated (I)\n",
    "  - Método de Box-Jenkins\n",
    "    - Identificación\n",
    "    - Estimación\n",
    "    - Validación\n",
    "\n",
    "- Modelos de series temporales no estacionarias\n",
    "  - Definición de no estacionariedad\n",
    "  - Modelos de alisamiento exponencial\n",
    "  - Modelos de tendencia lineal y no lineal\n",
    "  - Diferenciación\n",
    "\n",
    "- Evaluación y validación de modelos de series temporales\n",
    "  - Métricas de evaluación\n",
    "    - MAE (Error absoluto medio)\n",
    "    - MSE (Error cuadrático medio)\n",
    "    - RMSE (Raíz del error cuadrático medio)\n",
    "    - MAPE (Error porcentual absoluto medio)\n",
    "  - Validación cruzada\n",
    "    - División de conjuntos de datos\n",
    "    - Técnica de desplazamiento en el tiempo\n",
    "\n",
    "- Facebook Prophet\n",
    "  - Introducción a Prophet\n",
    "  - Características y ventajas\n",
    "  - Uso de Prophet para el pronóstico de series temporales\n",
    "  - Evaluación de modelos Prophet\n"
   ]
  }
 ],
 "metadata": {
  "kernelspec": {
   "display_name": "Python 3 (ipykernel)",
   "language": "python",
   "name": "python3"
  },
  "language_info": {
   "codemirror_mode": {
    "name": "ipython",
    "version": 3
   },
   "file_extension": ".py",
   "mimetype": "text/x-python",
   "name": "python",
   "nbconvert_exporter": "python",
   "pygments_lexer": "ipython3",
   "version": "3.9.13"
  }
 },
 "nbformat": 4,
 "nbformat_minor": 5
}
